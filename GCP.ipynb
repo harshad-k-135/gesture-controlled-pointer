{
 "cells": [
  {
   "cell_type": "code",
   "execution_count": 10,
   "metadata": {},
   "outputs": [],
   "source": [
    "import cv2\n",
    "import mediapipe as mp\n",
    "import pyautogui"
   ]
  },
  {
   "cell_type": "code",
   "execution_count": 11,
   "metadata": {},
   "outputs": [],
   "source": [
    "mp_hands = mp.solutions.hands\n",
    "mp_drawing = mp.solutions.drawing_utils\n",
    "hands = mp_hands.Hands(min_detection_confidence=0.7, min_tracking_confidence=0.7)\n",
    "cap = cv2.VideoCapture(0)"
   ]
  },
  {
   "cell_type": "code",
   "execution_count": 12,
   "metadata": {},
   "outputs": [],
   "source": [
    "def get_hand_landmarks(image):\n",
    "    image_rgb = cv2.cvtColor(image, cv2.COLOR_BGR2RGB)\n",
    "    result = hands.process(image_rgb)\n",
    "    if result.multi_hand_landmarks:\n",
    "        return result.multi_hand_landmarks[0]\n",
    "    return None\n",
    "\n",
    "def get_finger_pos(landmarks, width, height):\n",
    "    finger_pos = []\n",
    "    for id, lm in enumerate(landmarks.landmark):\n",
    "        x,y = int(lm.x*width), int(lm.y*height)\n",
    "        finger_pos.append((x,y))\n",
    "    return finger_pos\n",
    "\n",
    "def move_mouse(index_finger_pos):\n",
    "    screen_width, screen_height = pyautogui.size()\n",
    "    mouse_x = int(index_finger_pos[0]*screen_width/width)\n",
    "    mouse_y = int(index_finger_pos[1]*screen_height/height)\n",
    "    pyautogui.moveTo(mouse_x, mouse_y)\n",
    "    \n",
    "def click_mouse():\n",
    "    pyautogui.click()"
   ]
  },
  {
   "cell_type": "code",
   "execution_count": 13,
   "metadata": {},
   "outputs": [],
   "source": [
    "while cap.isOpened():\n",
    "    ret, frame = cap.read()\n",
    "    if not ret:\n",
    "        break\n",
    "    \n",
    "    height, width, _ = frame.shape\n",
    "    landmarks = get_hand_landmarks(frame)\n",
    "    if landmarks:\n",
    "        finger_pos = get_finger_pos(landmarks, width, height)\n",
    "        index_finger_pos = finger_pos[8]\n",
    "        thumb_tip_pos = finger_pos[4]\n",
    "        move_mouse(index_finger_pos)\n",
    "        if abs(index_finger_pos[0]-thumb_tip_pos[0])<10 and abs(index_finger_pos[1] - thumb_tip_pos[1])<10:\n",
    "            click_mouse()\n",
    "        mp_drawing.draw_landmarks(frame, landmarks, mp_hands.HAND_CONNECTIONS)\n",
    "    cv2.imshow(\"Virtual Mouse\", frame)\n",
    "    if cv2.waitKey(1) & 0xFF == ord('q'):\n",
    "        break\n",
    "    \n",
    "cap.release()\n",
    "cv2.destroyAllWindows()"
   ]
  },
  {
   "cell_type": "code",
   "execution_count": null,
   "metadata": {},
   "outputs": [],
   "source": []
  }
 ],
 "metadata": {
  "language_info": {
   "name": "python"
  }
 },
 "nbformat": 4,
 "nbformat_minor": 2
}
